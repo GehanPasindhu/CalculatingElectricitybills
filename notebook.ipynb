{
 "cells": [
  {
   "cell_type": "code",
   "execution_count": 2,
   "metadata": {},
   "outputs": [
    {
     "name": "stdout",
     "output_type": "stream",
     "text": [
      "John's Total Electricity Bill: £25.00\n"
     ]
    }
   ],
   "source": [
    "#Notebook: Calculating Electricity Bills (UK Style)\n",
    "#Question 1: Low Consumption Case\n",
    "#Question 2: Moderate Consumption Case\n",
    "#Question 3: High Consumption Case\n",
    "\n",
    "#QUESTION 01\n",
    "# Problem Statement - Low Consumption:\n",
    "# John's household has a low electricity consumption. Over the month, they've used 150 kWh.\n",
    "# The first 100 kWh is billed at a rate of 15p per kWh, and the remaining usage is billed at 20p per kWh.\n",
    "# Calculate John's total electricity bill for the month.\n",
    "\n",
    "# Defining the rates and usage\n",
    "low_usage_rate = 0.15  # rate for the first 100 kWh in pounds per kWh\n",
    "high_usage_rate = 0.20 # rate for usage above 100 kWh in pounds per kWh\n",
    "total_usage = 150      # total electricity used in kWh\n",
    "\n",
    "# Calculating the bill\n",
    "bill = min(100, total_usage) * low_usage_rate + max(0, total_usage - 100) * high_usage_rate\n",
    "\n",
    "# Displaying the result\n",
    "print(f\"John's Total Electricity Bill: £{bill:.2f}\")"
   ]
  },
  {
   "cell_type": "code",
   "execution_count": 3,
   "metadata": {},
   "outputs": [
    {
     "name": "stdout",
     "output_type": "stream",
     "text": [
      "Emily's Total Electricity Bill: £55.00\n"
     ]
    }
   ],
   "source": [
    "#Question 02\n",
    "# Problem Statement - Moderate Consumption:\n",
    "# Emily's household has a moderate electricity consumption. They've used 300 kWh in a month.\n",
    "# The first 100 kWh is billed at 15p per kWh, the next 100 kWh at 18p per kWh, \n",
    "# and any additional usage is billed at 22p per kWh.\n",
    "# Calculate Emily's total electricity bill for the month.\n",
    "\n",
    "# Defining the rates and usage\n",
    "first_tier_rate = 0.15  # rate for the first 100 kWh in pounds per kWh\n",
    "second_tier_rate = 0.18 # rate for the next 100 kWh in pounds per kWh\n",
    "third_tier_rate = 0.22  # rate for usage above 200 kWh in pounds per kWh\n",
    "total_usage = 300       # total electricity used in kWh\n",
    "\n",
    "# Calculating the bill\n",
    "bill = min(100, total_usage) * first_tier_rate + \\\n",
    "       max(0, min(100, total_usage - 100)) * second_tier_rate + \\\n",
    "       max(0, total_usage - 200) * third_tier_rate\n",
    "\n",
    "# Displaying the result\n",
    "print(f\"Emily's Total Electricity Bill: £{bill:.2f}\")"
   ]
  },
  {
   "cell_type": "code",
   "execution_count": 4,
   "metadata": {},
   "outputs": [
    {
     "name": "stdout",
     "output_type": "stream",
     "text": [
      "David's Total Electricity Bill: £104.50\n"
     ]
    }
   ],
   "source": [
    "#Question 3: High Consumption Case\n",
    " \n",
    "# Problem Statement - High Consumption:\n",
    "# David's household has a high electricity consumption, using 500 kWh in a month.\n",
    "# The billing is tiered: 15p per kWh for the first 100 kWh, 18p for the next 150 kWh, \n",
    "# and 25p for any usage above 250 kWh.\n",
    "# Calculate David's total electricity bill for the month.\n",
    "\n",
    "# Defining the rates and usage\n",
    "first_tier_rate = 0.15  # rate for the first 100 kWh in pounds per kWh\n",
    "second_tier_rate = 0.18 # rate for the next 150 kWh in pounds per kWh\n",
    "third_tier_rate = 0.25  # rate for usage above 250 kWh in pounds per kWh\n",
    "total_usage = 500       # total electricity used in kWh\n",
    "\n",
    "# Calculating the bill\n",
    "bill = min(100, total_usage) * first_tier_rate + \\\n",
    "       max(0, min(150, total_usage - 100)) * second_tier_rate + \\\n",
    "       max(0, total_usage - 250) * third_tier_rate\n",
    "\n",
    "# Displaying the result\n",
    "print(f\"David's Total Electricity Bill: £{bill:.2f}\")"
   ]
  },
  {
   "cell_type": "markdown",
   "metadata": {},
   "source": [
    "##Create a common method to calculate above senarios"
   ]
  },
  {
   "cell_type": "code",
   "execution_count": 11,
   "metadata": {},
   "outputs": [],
   "source": [
    "def meterReading(first_tier, first_tier_rate, second_tier, second_tier_rate, third_tier, third_tier_rate, total_usage):\n",
    "   bill = min(first_tier, total_usage) * first_tier_rate + \\\n",
    "   max(0, min(second_tier, total_usage - first_tier)) * second_tier_rate + \\\n",
    "   max(0, total_usage - third_tier) * third_tier_rate\n",
    "\n",
    "   return bill"
   ]
  },
  {
   "cell_type": "code",
   "execution_count": 18,
   "metadata": {},
   "outputs": [
    {
     "name": "stdout",
     "output_type": "stream",
     "text": [
      "Emily's Total Electricity Bill: £55.00\n"
     ]
    }
   ],
   "source": [
    "total_usage = 300\n",
    "first_tier_rate = 0.15\n",
    "second_tier_rate = 0.18\n",
    "third_tier_rate = 0.22\n",
    "first_tier = 100\n",
    "second_tier = 100\n",
    "third_tier = 200\n",
    "\n",
    "\n",
    "resulting_bill = meterReading(first_tier, first_tier_rate, second_tier,  second_tier_rate, third_tier, third_tier_rate, total_usage)\n",
    "print(f\"Emily's Total Electricity Bill: £{resulting_bill:.2f}\")"
   ]
  },
  {
   "cell_type": "code",
   "execution_count": 15,
   "metadata": {},
   "outputs": [
    {
     "name": "stdout",
     "output_type": "stream",
     "text": [
      "David's Total Electricity Bill: £104.50\n"
     ]
    }
   ],
   "source": [
    "total_usage = 500\n",
    "first_tier_rate = 0.15\n",
    "second_tier_rate = 0.18\n",
    "third_tier_rate = 0.25\n",
    "first_tier = 100\n",
    "second_tier = 150\n",
    "third_tier = 250\n",
    "\n",
    "resulting_bill = meterReading(first_tier, first_tier_rate, second_tier,  second_tier_rate, third_tier, third_tier_rate, total_usage)\n",
    "print(f\"David's Total Electricity Bill: £{resulting_bill:.2f}\")"
   ]
  }
 ],
 "metadata": {
  "kernelspec": {
   "display_name": "Python 3",
   "language": "python",
   "name": "python3"
  },
  "language_info": {
   "codemirror_mode": {
    "name": "ipython",
    "version": 3
   },
   "file_extension": ".py",
   "mimetype": "text/x-python",
   "name": "python",
   "nbconvert_exporter": "python",
   "pygments_lexer": "ipython3",
   "version": "3.10.11"
  }
 },
 "nbformat": 4,
 "nbformat_minor": 2
}
